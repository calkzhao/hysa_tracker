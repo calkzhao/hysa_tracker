{
 "cells": [
  {
   "cell_type": "markdown",
   "id": "17f477d6-194b-405f-8ef1-50b2c76845f0",
   "metadata": {},
   "source": [
    "# HYSA TRACKER"
   ]
  },
  {
   "cell_type": "markdown",
   "id": "bd6da903-f5d4-4fcb-b3a0-c10b108fa523",
   "metadata": {},
   "source": [
    "Goal of the project is to track how my high-yield savings account performs. \n",
    "Iwould  like toexplicitlyy see how much money I am earning in interest.\r\n",
    "My financial goal for 2026 is to save up 15k. Currently I'm at 6k.\r\n",
    "If I can comfortably save 150 per paycheck, how much would I have by the end of one year?\r\n",
    "In addition, how long would it take to save up to my goal?"
   ]
  },
  {
   "cell_type": "code",
   "execution_count": 13,
   "id": "f7ffa046-e302-4f20-bac3-d9299e271047",
   "metadata": {},
   "outputs": [
    {
     "name": "stdout",
     "output_type": "stream",
     "text": [
      "    Biweekly Period  Contribution  Interest Rate  End Balance\n",
      "0                 1           150        0.13798      6158.28\n",
      "1                 2           150        0.13798      6316.78\n",
      "2                 3           150        0.13798      6475.49\n",
      "3                 4           150        0.13798      6634.43\n",
      "4                 5           150        0.13798      6793.58\n",
      "5                 6           150        0.13798      6952.95\n",
      "6                 7           150        0.13798      7112.55\n",
      "7                 8           150        0.13798      7272.36\n",
      "8                 9           150        0.13798      7432.40\n",
      "9                10           150        0.13798      7592.65\n",
      "10               11           150        0.13798      7753.13\n",
      "11               12           150        0.13798      7913.82\n",
      "12               13           150        0.13798      8074.74\n",
      "13               14           150        0.13798      8235.89\n",
      "14               15           150        0.13798      8397.25\n",
      "15               16           150        0.13798      8558.84\n",
      "16               17           150        0.13798      8720.64\n",
      "17               18           150        0.13798      8882.68\n",
      "18               19           150        0.13798      9044.93\n",
      "19               20           150        0.13798      9207.41\n",
      "20               21           150        0.13798      9370.12\n",
      "21               22           150        0.13798      9533.05\n",
      "22               23           150        0.13798      9696.20\n",
      "23               24           150        0.13798      9859.58\n",
      "24               25           150        0.13798     10023.18\n",
      "25               26           150        0.13798     10187.01\n"
     ]
    }
   ],
   "source": [
    "'''\n",
    "Last edited July 18, 2025\n",
    "Next steps:\n",
    "How long till I can hit my goal?\n",
    "Create graph to visualize.\n",
    "'''\n",
    "\n",
    "import pandas as pd\n",
    "import numpy as np\n",
    "import matplotlib.pyplot as plt\n",
    "\n",
    "# parameters\n",
    "annual_rate = 0.0365\n",
    "starting_balance = 6000\n",
    "goal = 15000\n",
    "# convert annual rate to biweekly rate. \n",
    "biweekly_rate = (1 + annual_rate) ** (1/26) - 1 #equation found on google\n",
    "biweekly_contribution = 150\n",
    "# 26 pay periods in a year\n",
    "n = 26\n",
    "\n",
    "# create schedule\n",
    "schedule = []\n",
    "balance = starting_balance\n",
    "\n",
    "for i in range(1, n + 1):\n",
    "    balance *= (1 + biweekly_rate)\n",
    "    balance += biweekly_contribution\n",
    "    schedule.append({\n",
    "        \"Biweekly Period\": i,\n",
    "        \"Contribution\": biweekly_contribution,\n",
    "        \"Interest Rate\": round(biweekly_rate * 100, 5),\n",
    "        #\"Accumulated\": round(accumulated, 2),\n",
    "        \"End Balance\": round(balance, 2)\n",
    "    })\n",
    "\n",
    "# display the schedule\n",
    "df_schedule = pd.DataFrame(schedule)\n",
    "print(df_schedule)"
   ]
  },
  {
   "cell_type": "markdown",
   "id": "5dcffe4a-2788-4536-99fd-c1cf13b9d452",
   "metadata": {},
   "source": [
    "Next step, I want to insert a row at the top to show what I initially started with."
   ]
  },
  {
   "cell_type": "code",
   "execution_count": 14,
   "id": "40b44ef9-06de-4a9c-9524-bb22a817909f",
   "metadata": {},
   "outputs": [
    {
     "name": "stdout",
     "output_type": "stream",
     "text": [
      "**********FIRST DATAFRAME**********\n",
      "    Biweekly Period  Contribution  Interest Rate  End Balance\n",
      "0                 0             0        0.13798      6000.00\n",
      "1                 1           150        0.13798      6158.28\n",
      "2                 2           150        0.13798      6316.78\n",
      "3                 3           150        0.13798      6475.49\n",
      "4                 4           150        0.13798      6634.43\n",
      "5                 5           150        0.13798      6793.58\n",
      "6                 6           150        0.13798      6952.95\n",
      "7                 7           150        0.13798      7112.55\n",
      "8                 8           150        0.13798      7272.36\n",
      "9                 9           150        0.13798      7432.40\n",
      "10               10           150        0.13798      7592.65\n",
      "11               11           150        0.13798      7753.13\n",
      "12               12           150        0.13798      7913.82\n",
      "13               13           150        0.13798      8074.74\n",
      "14               14           150        0.13798      8235.89\n",
      "15               15           150        0.13798      8397.25\n",
      "16               16           150        0.13798      8558.84\n",
      "17               17           150        0.13798      8720.64\n",
      "18               18           150        0.13798      8882.68\n",
      "19               19           150        0.13798      9044.93\n",
      "20               20           150        0.13798      9207.41\n",
      "21               21           150        0.13798      9370.12\n",
      "22               22           150        0.13798      9533.05\n",
      "23               23           150        0.13798      9696.20\n",
      "24               24           150        0.13798      9859.58\n",
      "25               25           150        0.13798     10023.18\n",
      "26               26           150        0.13798     10187.01\n"
     ]
    }
   ],
   "source": [
    "initial = pd.DataFrame({\"Biweekly Period\": 0,\n",
    "                        \"Contribution\": 0,\n",
    "                        \"Interest Rate\": round(biweekly_rate * 100, 5),\n",
    "                        \"End Balance\": 6000.00},\n",
    "                        index = [0])\n",
    "df_schedule = pd.concat([initial, df_schedule]).reset_index(drop = True)\n",
    "print(\"**********FIRST DATAFRAME**********\")\n",
    "print(df_schedule)"
   ]
  },
  {
   "cell_type": "markdown",
   "id": "70c8489d-a2b2-4b21-840b-118c0343263d",
   "metadata": {},
   "source": [
    "Also want to include a row to see what my accumulated interest amount** is.\n",
    "\n",
    "**sorry, not a finance girly, so I'm not sure of the correct term"
   ]
  },
  {
   "cell_type": "code",
   "execution_count": 15,
   "id": "f8fb8163-582c-42aa-a007-0d4cf29ef53f",
   "metadata": {},
   "outputs": [
    {
     "name": "stdout",
     "output_type": "stream",
     "text": [
      "**********ACCUMULATED DATAFRAME**********\n",
      "    Biweekly Period  Contribution  Interest Rate  End Balance  Accumulated\n",
      "0                 0             0        0.13798      6000.00          NaN\n",
      "1                 1           150        0.13798      6158.28         8.28\n",
      "2                 2           150        0.13798      6316.78         8.50\n",
      "3                 3           150        0.13798      6475.49         8.71\n",
      "4                 4           150        0.13798      6634.43         8.94\n",
      "5                 5           150        0.13798      6793.58         9.15\n",
      "6                 6           150        0.13798      6952.95         9.37\n",
      "7                 7           150        0.13798      7112.55         9.60\n",
      "8                 8           150        0.13798      7272.36         9.81\n",
      "9                 9           150        0.13798      7432.40        10.04\n",
      "10               10           150        0.13798      7592.65        10.25\n",
      "11               11           150        0.13798      7753.13        10.48\n",
      "12               12           150        0.13798      7913.82        10.69\n",
      "13               13           150        0.13798      8074.74        10.92\n",
      "14               14           150        0.13798      8235.89        11.15\n",
      "15               15           150        0.13798      8397.25        11.36\n",
      "16               16           150        0.13798      8558.84        11.59\n",
      "17               17           150        0.13798      8720.64        11.80\n",
      "18               18           150        0.13798      8882.68        12.04\n",
      "19               19           150        0.13798      9044.93        12.25\n",
      "20               20           150        0.13798      9207.41        12.48\n",
      "21               21           150        0.13798      9370.12        12.71\n",
      "22               22           150        0.13798      9533.05        12.93\n",
      "23               23           150        0.13798      9696.20        13.15\n",
      "24               24           150        0.13798      9859.58        13.38\n",
      "25               25           150        0.13798     10023.18        13.60\n",
      "26               26           150        0.13798     10187.01        13.83\n"
     ]
    }
   ],
   "source": [
    "'''\n",
    "Note: \n",
    "Probably doing this the long way... but now that I have the initial balance as the first row,\n",
    "I can do column math to find the accumulated :)\n",
    "'''\n",
    "df_schedule['Accumulated'] = (df_schedule['End Balance'] - df_schedule['End Balance'].shift(1)) - biweekly_contribution\n",
    "\n",
    "print(\"**********ACCUMULATED DATAFRAME**********\")\n",
    "print(df_schedule)\n"
   ]
  },
  {
   "cell_type": "code",
   "execution_count": null,
   "id": "d7ebd9e5-3c47-4112-b71d-a4e6c73717be",
   "metadata": {},
   "outputs": [],
   "source": []
  }
 ],
 "metadata": {
  "kernelspec": {
   "display_name": "Python 3 (ipykernel)",
   "language": "python",
   "name": "python3"
  },
  "language_info": {
   "codemirror_mode": {
    "name": "ipython",
    "version": 3
   },
   "file_extension": ".py",
   "mimetype": "text/x-python",
   "name": "python",
   "nbconvert_exporter": "python",
   "pygments_lexer": "ipython3",
   "version": "3.12.3"
  }
 },
 "nbformat": 4,
 "nbformat_minor": 5
}
