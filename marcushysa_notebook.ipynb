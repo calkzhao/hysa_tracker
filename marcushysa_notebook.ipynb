{
 "cells": [
  {
   "cell_type": "markdown",
   "id": "12640239-67e4-4a01-aa87-503656065e8a",
   "metadata": {},
   "source": [
    "# HYSA TRACKER"
   ]
  },
  {
   "cell_type": "markdown",
   "id": "94897027-04a2-481c-a242-29c8b4646979",
   "metadata": {},
   "source": [
    "Goal of the project is to track how my high-yield savings account performs"
   ]
  },
  {
   "cell_type": "code",
   "execution_count": 7,
   "id": "f7ffa046-e302-4f20-bac3-d9299e271047",
   "metadata": {},
   "outputs": [
    {
     "name": "stdout",
     "output_type": "stream",
     "text": [
      "******************** Initial Table ********************\n",
      "    Month  Contribution  Interest Rate  End Balance\n",
      "0       1           300        0.29919      6317.95\n",
      "1       2           300        0.29919      6636.85\n",
      "2       3           300        0.29919      6956.71\n",
      "3       4           300        0.29919      7277.53\n",
      "4       5           300        0.29919      7599.30\n",
      "5       6           300        0.29919      7922.04\n",
      "6       7           300        0.29919      8245.74\n",
      "7       8           300        0.29919      8570.41\n",
      "8       9           300        0.29919      8896.05\n",
      "9      10           300        0.29919      9222.67\n",
      "10     11           300        0.29919      9550.26\n",
      "11     12           300        0.29919      9878.84\n"
     ]
    }
   ],
   "source": [
    "'''\n",
    "Next steps:\n",
    "Make a function so it's not hard-coded\n",
    "Make visualizations\n",
    "'''\n",
    "\n",
    "import pandas as pd\n",
    "import numpy as np\n",
    "import matplotlib.pyplot as plt\n",
    "\n",
    "# parameters\n",
    "annual_rate = 0.0365\n",
    "starting_balance = 6000\n",
    "goal = 15000\n",
    "# convert annual rate to monthly rate. \n",
    "monthly_rate = (1 + annual_rate) ** (1/12) - 1 #equation found on google\n",
    "monthly_contribution = 300\n",
    "n = 12\n",
    "\n",
    "# create schedule\n",
    "schedule = []\n",
    "balance = starting_balance\n",
    "\n",
    "for i in range(1, n + 1):\n",
    "    balance *= (1 + monthly_rate)\n",
    "    balance += monthly_contribution\n",
    "    schedule.append({\n",
    "        \"Month\": i,\n",
    "        \"Contribution\": monthly_contribution,\n",
    "        \"Interest Rate\": round(monthly_rate * 100, 5),\n",
    "        #\"Accumulated\": round(accumulated, 2),\n",
    "        \"End Balance\": round(balance, 2)\n",
    "    })\n",
    "\n",
    "# display the schedule\n",
    "df_schedule = pd.DataFrame(schedule)\n",
    "print(\"*\" * 20 + \" Initial Table \" + \"*\" * 20)\n",
    "print(df_schedule)"
   ]
  },
  {
   "cell_type": "markdown",
   "id": "5dcffe4a-2788-4536-99fd-c1cf13b9d452",
   "metadata": {},
   "source": [
    "Next step, I want to insert a row at the top to show what I initially started with."
   ]
  },
  {
   "cell_type": "code",
   "execution_count": 7,
   "id": "40b44ef9-06de-4a9c-9524-bb22a817909f",
   "metadata": {},
   "outputs": [
    {
     "name": "stdout",
     "output_type": "stream",
     "text": [
      "******************** Starting Balance Table ********************\n",
      "    Month  Contribution  Interest Rate  End Balance\n",
      "0       0             0        0.29919      6000.00\n",
      "1       1           300        0.29919      6317.95\n",
      "2       2           300        0.29919      6636.85\n",
      "3       3           300        0.29919      6956.71\n",
      "4       4           300        0.29919      7277.53\n",
      "5       5           300        0.29919      7599.30\n",
      "6       6           300        0.29919      7922.04\n",
      "7       7           300        0.29919      8245.74\n",
      "8       8           300        0.29919      8570.41\n",
      "9       9           300        0.29919      8896.05\n",
      "10     10           300        0.29919      9222.67\n",
      "11     11           300        0.29919      9550.26\n",
      "12     12           300        0.29919      9878.84\n"
     ]
    }
   ],
   "source": [
    "initial = pd.DataFrame({\"Month\": 0,\n",
    "                        \"Contribution\": 0,\n",
    "                        \"Interest Rate\": round(monthly_rate * 100, 5),\n",
    "                        \"End Balance\": 6000.00},\n",
    "                        index = [0])\n",
    "df_schedule = pd.concat([initial, df_schedule]).reset_index(drop = True)\n",
    "\n",
    "print(\"*\" * 20 + \" Starting Balance Table \" + \"*\" * 20)\n",
    "print(df_schedule)"
   ]
  },
  {
   "cell_type": "markdown",
   "id": "e03792c9-e2a7-4989-b747-abb898241b21",
   "metadata": {},
   "source": [
    "## How much money are you getting from interest?"
   ]
  },
  {
   "cell_type": "markdown",
   "id": "70c8489d-a2b2-4b21-840b-118c0343263d",
   "metadata": {},
   "source": [
    "I also want to include a row to see what my earnings from interest are."
   ]
  },
  {
   "cell_type": "code",
   "execution_count": 8,
   "id": "f8fb8163-582c-42aa-a007-0d4cf29ef53f",
   "metadata": {},
   "outputs": [
    {
     "name": "stdout",
     "output_type": "stream",
     "text": [
      "********************  Accumulated Table ********************\n",
      "    Month  Contribution  Interest Rate  End Balance  Accumulated\n",
      "0       0             0        0.29919      6000.00          NaN\n",
      "1       1           300        0.29919      6317.95        17.95\n",
      "2       2           300        0.29919      6636.85        18.90\n",
      "3       3           300        0.29919      6956.71        19.86\n",
      "4       4           300        0.29919      7277.53        20.82\n",
      "5       5           300        0.29919      7599.30        21.77\n",
      "6       6           300        0.29919      7922.04        22.74\n",
      "7       7           300        0.29919      8245.74        23.70\n",
      "8       8           300        0.29919      8570.41        24.67\n",
      "9       9           300        0.29919      8896.05        25.64\n",
      "10     10           300        0.29919      9222.67        26.62\n",
      "11     11           300        0.29919      9550.26        27.59\n",
      "12     12           300        0.29919      9878.84        28.58\n"
     ]
    }
   ],
   "source": [
    "'''\n",
    "Note: \n",
    "Probably doing this the long way... but now that I have the initial balance as the first row,\n",
    "I can do column math to find the accumulated :)\n",
    "'''\n",
    "df_schedule['Accumulated'] = (df_schedule['End Balance'] - df_schedule['End Balance'].shift(1)) - monthly_contribution\n",
    "\n",
    "print(\"*\" * 20 + \"  Accumulated Table \" + \"*\" * 20)\n",
    "print(df_schedule)\n"
   ]
  },
  {
   "cell_type": "markdown",
   "id": "871e1528-e9ae-45ea-8e72-1f3c9d6d74f5",
   "metadata": {},
   "source": [
    "## How long will it take to hit your goal?"
   ]
  },
  {
   "cell_type": "markdown",
   "id": "cf7012f5-34da-4146-a0b1-016e29350f4d",
   "metadata": {},
   "source": [
    "Using equation I got using chatgpt...\n"
   ]
  },
  {
   "cell_type": "markdown",
   "id": "b32991f8-d2e7-4b2f-820e-05e1bcbd913a",
   "metadata": {},
   "source": [
    "$$\n",
    "G = P \\cdot \\left(1 + \\frac{r}{n}\\right)^t + C \\cdot \\left( \\frac{(1 + \\frac{r}{n})^t - 1}{\\frac{r}{n}} \\right)\n",
    "$$"
   ]
  },
  {
   "cell_type": "markdown",
   "id": "4aef55bc-cd2c-4d92-b0e5-4cc93f5b6184",
   "metadata": {},
   "source": [
    "G = goal amount <br>\n",
    "P = current balance <br>\n",
    "C = monthly contribution <br>\n",
    "r = annual interest rate (as decimal) <br>\n",
    "n = 12 (monthly compounding) <br>\n",
    "t = number of months <br>"
   ]
  },
  {
   "cell_type": "code",
   "execution_count": 9,
   "id": "6808be1b-2d14-496c-9577-dc96a501b0a8",
   "metadata": {},
   "outputs": [
    {
     "name": "stdout",
     "output_type": "stream",
     "text": [
      "28\n"
     ]
    }
   ],
   "source": [
    "G = 15000\n",
    "P = 6000\n",
    "C = 300\n",
    "r = 0.0365\n",
    "n = 12\n",
    "\n",
    "balance = P\n",
    "months = 0\n",
    "monthly_rate = r/n\n",
    "\n",
    "while balance < G:\n",
    "    balance = balance * (1 + monthly_rate) + C\n",
    "    months += 1\n",
    "\n",
    "print(months)"
   ]
  },
  {
   "cell_type": "markdown",
   "id": "17799c9b-70c0-45e4-ad94-e8e8079b6a70",
   "metadata": {},
   "source": [
    "## Look at it as a schedule"
   ]
  },
  {
   "cell_type": "code",
   "execution_count": 27,
   "id": "c58216e7-9c54-4e47-ae8a-da1e2e6e60ae",
   "metadata": {},
   "outputs": [
    {
     "name": "stdout",
     "output_type": "stream",
     "text": [
      "    Month  Contribution  Interest Rate  End Balance  Accumulated\n",
      "0       0             0        0.29919      6000.00          NaN\n",
      "1       1           300        0.29919      6317.95        17.95\n",
      "2       2           300        0.29919      6636.85        18.90\n",
      "3       3           300        0.29919      6956.71        19.86\n",
      "4       4           300        0.29919      7277.53        20.82\n",
      "5       5           300        0.29919      7599.30        21.77\n",
      "6       6           300        0.29919      7922.04        22.74\n",
      "7       7           300        0.29919      8245.74        23.70\n",
      "8       8           300        0.29919      8570.41        24.67\n",
      "9       9           300        0.29919      8896.05        25.64\n",
      "10     10           300        0.29919      9222.67        26.62\n",
      "11     11           300        0.29919      9550.26        27.59\n",
      "12     12           300        0.29919      9878.84        28.58\n",
      "13     13           300        0.29919     10208.39        29.55\n",
      "14     14           300        0.29919     10538.93        30.54\n",
      "15     15           300        0.29919     10870.47        31.54\n",
      "16     16           300        0.29919     11202.99        32.52\n",
      "17     17           300        0.29919     11536.51        33.52\n",
      "18     18           300        0.29919     11871.03        34.52\n",
      "19     19           300        0.29919     12206.54        35.51\n",
      "20     20           300        0.29919     12543.06        36.52\n",
      "21     21           300        0.29919     12880.59        37.53\n",
      "22     22           300        0.29919     13219.13        38.54\n",
      "23     23           300        0.29919     13558.68        39.55\n",
      "24     24           300        0.29919     13899.25        40.57\n",
      "25     25           300        0.29919     14240.83        41.58\n",
      "26     26           300        0.29919     14583.44        42.61\n",
      "27     27           300        0.29919     14927.07        43.63\n",
      "28     28           300        0.29919     15271.73        44.66\n"
     ]
    }
   ],
   "source": [
    "# give new parameters with 28 months\n",
    "# parameters\n",
    "annual_rate = 0.0365\n",
    "starting_balance = 6000\n",
    "goal = 15000\n",
    "# convert annual rate to monthly rate. \n",
    "monthly_rate = (1 + annual_rate) ** (1/12) - 1 #equation found on google\n",
    "monthly_contribution = 300\n",
    "n = 28\n",
    "\n",
    "# create schedule\n",
    "new_schedule = []\n",
    "balance = starting_balance\n",
    "\n",
    "for i in range(1, n + 1):\n",
    "    balance *= (1 + monthly_rate)\n",
    "    balance += monthly_contribution\n",
    "    new_schedule.append({\n",
    "        \"Month\": i,\n",
    "        \"Contribution\": monthly_contribution,\n",
    "        \"Interest Rate\": round(monthly_rate * 100, 5),\n",
    "        \"End Balance\": round(balance, 2)\n",
    "    })\n",
    "df_goal = pd.DataFrame(new_schedule)\n",
    "\n",
    "# add initial\n",
    "initial = pd.DataFrame({\"Month\": 0,\n",
    "                        \"Contribution\": 0,\n",
    "                        \"Interest Rate\": round(monthly_rate * 100, 5),\n",
    "                        \"End Balance\": 6000.00},\n",
    "                        index = [0])\n",
    "df_goal = pd.concat([initial, df_goal]).reset_index(drop = True)\n",
    "\n",
    "# add accumulated column\n",
    "df_goal['Accumulated'] = (df_goal['End Balance'] - df_goal['End Balance'].shift(1)) - monthly_contribution\n",
    "\n",
    "print(df_goal)"
   ]
  },
  {
   "cell_type": "markdown",
   "id": "1e5c77f2-d323-45cc-8353-ffd71cd46a98",
   "metadata": {},
   "source": [
    "How much is the YTD earnings from interest?"
   ]
  },
  {
   "cell_type": "code",
   "execution_count": 28,
   "id": "b5c3d08e-b6de-43e8-a1c8-637f1721a74c",
   "metadata": {},
   "outputs": [
    {
     "data": {
      "text/plain": [
       "871.7299999999996"
      ]
     },
     "execution_count": 28,
     "metadata": {},
     "output_type": "execute_result"
    }
   ],
   "source": [
    "YTD_300 = df_goal['Accumulated'].sum()\n",
    "YTD_300"
   ]
  },
  {
   "cell_type": "markdown",
   "id": "88a14b65-f768-4fc0-a27d-c7bf1c007123",
   "metadata": {},
   "source": [
    "## How much would I have to save to hit my goal by 2026?"
   ]
  },
  {
   "cell_type": "markdown",
   "id": "8fb437b4-d0a4-4fc7-a90c-7eedef35a8d2",
   "metadata": {},
   "source": [
    "$$\n",
    "G = P \\cdot \\left(1 + \\frac{r}{n}\\right)^t + C \\cdot \\left( \\frac{(1 + \\frac{r}{n})^t - 1}{\\frac{r}{n}} \\right)\n",
    "$$\n"
   ]
  },
  {
   "cell_type": "markdown",
   "id": "c606da5d-5711-4181-a775-e83ba5b99015",
   "metadata": {},
   "source": [
    "G = goal amount <br>\n",
    "P = current balance <br>\n",
    "C = monthly contribution <br>\n",
    "r = annual interest rate (as decimal) <br>\n",
    "n = 12 (monthly compounding) <br>\n",
    "t = number of months <br>"
   ]
  },
  {
   "cell_type": "code",
   "execution_count": 12,
   "id": "bf0233a7-dd4a-4671-b10c-72b0f1c0c6f7",
   "metadata": {},
   "outputs": [
    {
     "name": "stdout",
     "output_type": "stream",
     "text": [
      "720\n"
     ]
    }
   ],
   "source": [
    "G = 15000\n",
    "P = 6000\n",
    "r = 0.0365\n",
    "n = 12\n",
    "\n",
    "balance = P\n",
    "months = 12\n",
    "monthly_rate = r/n\n",
    "\n",
    "C = 0\n",
    "step = 1  \n",
    "max_iter = 100000\n",
    "\n",
    "for _ in range(max_iter):\n",
    "    balance = P\n",
    "    for _ in range(months):\n",
    "        balance = balance * (1 + monthly_rate) + C\n",
    "    if balance >= G:\n",
    "        break\n",
    "    C += step\n",
    "print(C)"
   ]
  },
  {
   "cell_type": "markdown",
   "id": "7cb693fb-944d-4f77-88f8-14a240f204f1",
   "metadata": {},
   "source": [
    "I would have to contribute $720 per month in order to hit my goal by 2026"
   ]
  },
  {
   "cell_type": "code",
   "execution_count": 24,
   "id": "0288ece6-9b0b-4296-862d-e58ca934c67f",
   "metadata": {},
   "outputs": [
    {
     "name": "stdout",
     "output_type": "stream",
     "text": [
      "    Month  Contribution  Interest Rate  End Balance  Accumulated\n",
      "0       0             0        0.29919      6000.00          NaN\n",
      "1       1           720        0.29919      6737.95        17.95\n",
      "2       2           720        0.29919      7478.11        20.16\n",
      "3       3           720        0.29919      8220.49        22.38\n",
      "4       4           720        0.29919      8965.08        24.59\n",
      "5       5           720        0.29919      9711.90        26.82\n",
      "6       6           720        0.29919     10460.96        29.06\n",
      "7       7           720        0.29919     11212.26        31.30\n",
      "8       8           720        0.29919     11965.81        33.55\n",
      "9       9           720        0.29919     12721.61        35.80\n",
      "10     10           720        0.29919     13479.67        38.06\n",
      "11     11           720        0.29919     14240.00        40.33\n",
      "12     12           720        0.29919     15002.60        42.60\n"
     ]
    }
   ],
   "source": [
    "# give new parameters\n",
    "# parameters\n",
    "annual_rate = 0.0365\n",
    "starting_balance = 6000\n",
    "goal = 15000\n",
    "# convert annual rate to monthly rate. \n",
    "monthly_rate = (1 + annual_rate) ** (1/12) - 1 #equation found on google\n",
    "monthly_contribution = 720\n",
    "n = 12\n",
    "\n",
    "# create schedule\n",
    "schedule_26 = []\n",
    "balance = starting_balance\n",
    "\n",
    "for i in range(1, n + 1):\n",
    "    balance *= (1 + monthly_rate)\n",
    "    balance += monthly_contribution\n",
    "    schedule_26.append({\n",
    "        \"Month\": i,\n",
    "        \"Contribution\": monthly_contribution,\n",
    "        \"Interest Rate\": round(monthly_rate * 100, 5),\n",
    "        \"End Balance\": round(balance, 2)\n",
    "    })\n",
    "df_goal_2026 = pd.DataFrame(schedule_26)\n",
    "\n",
    "# add initial\n",
    "initial = pd.DataFrame({\"Month\": 0,\n",
    "                        \"Contribution\": 0,\n",
    "                        \"Interest Rate\": round(monthly_rate * 100, 5),\n",
    "                        \"End Balance\": 6000.00},\n",
    "                        index = [0])\n",
    "df_goal_2026 = pd.concat([initial, df_goal_2026]).reset_index(drop = True)\n",
    "\n",
    "# add accumulated column\n",
    "df_goal_2026['Accumulated'] = (df_goal_2026['End Balance'] - df_goal_2026['End Balance'].shift(1)) - monthly_contribution\n",
    "\n",
    "print(df_goal_2026)"
   ]
  },
  {
   "cell_type": "markdown",
   "id": "1b87da35-8f1f-48ab-8415-80f15fae67fd",
   "metadata": {},
   "source": [
    "How much is the YTD earnings from interest?"
   ]
  },
  {
   "cell_type": "code",
   "execution_count": 29,
   "id": "f72be237-695f-4eec-8b68-03f8be3571a5",
   "metadata": {},
   "outputs": [
    {
     "data": {
      "text/plain": [
       "362.60000000000036"
      ]
     },
     "execution_count": 29,
     "metadata": {},
     "output_type": "execute_result"
    }
   ],
   "source": [
    "YTD_720 = df_goal_2026['Accumulated'].sum()\n",
    "YTD_720"
   ]
  },
  {
   "cell_type": "markdown",
   "id": "1c7678e2-276d-41c2-ae86-ecdc60a47bde",
   "metadata": {},
   "source": [
    "### What's interesting is that the YTD earnings from interest is higher if I contribute less but keep it in the account for longer."
   ]
  }
 ],
 "metadata": {
  "kernelspec": {
   "display_name": "Python 3 (ipykernel)",
   "language": "python",
   "name": "python3"
  },
  "language_info": {
   "codemirror_mode": {
    "name": "ipython",
    "version": 3
   },
   "file_extension": ".py",
   "mimetype": "text/x-python",
   "name": "python",
   "nbconvert_exporter": "python",
   "pygments_lexer": "ipython3",
   "version": "3.12.3"
  }
 },
 "nbformat": 4,
 "nbformat_minor": 5
}
